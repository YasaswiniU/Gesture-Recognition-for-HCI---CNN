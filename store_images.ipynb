{
 "cells": [
  {
   "cell_type": "code",
   "execution_count": 1,
   "metadata": {},
   "outputs": [
    {
     "data": {
      "text/plain": [
       "'E:\\\\Gesture recognition'"
      ]
     },
     "execution_count": 1,
     "metadata": {},
     "output_type": "execute_result"
    }
   ],
   "source": [
    "import pandas as pd\n",
    "import cv2\n",
    "import os\n",
    "import numpy as np\n",
    "from mnist import MNIST\n",
    "os.getcwd()"
   ]
  },
  {
   "cell_type": "code",
   "execution_count": 5,
   "metadata": {},
   "outputs": [],
   "source": [
    "emnist_data = MNIST(path = 'E:\\\\Gesture recognition\\\\emnist_source_files\\\\', return_type = 'numpy')\n",
    "emnist_data.select_emnist('letters')\n",
    "train_images, train_labels = emnist_data.load_training()\n",
    "test_images, test_labels = emnist_data.load_testing()"
   ]
  },
  {
   "cell_type": "code",
   "execution_count": 6,
   "metadata": {},
   "outputs": [
    {
     "name": "stdout",
     "output_type": "stream",
     "text": [
      "(124800, 784) (124800,)\n",
      "(20800, 784) (20800,)\n"
     ]
    }
   ],
   "source": [
    "print(train_images.shape, train_labels.shape)\n",
    "print(test_images.shape, test_labels.shape)"
   ]
  },
  {
   "cell_type": "code",
   "execution_count": 7,
   "metadata": {},
   "outputs": [
    {
     "name": "stdout",
     "output_type": "stream",
     "text": [
      "26 1\n",
      "26 1\n"
     ]
    }
   ],
   "source": [
    "print(max(train_labels), min(train_labels))\n",
    "print(max(test_labels), min(test_labels))"
   ]
  },
  {
   "cell_type": "code",
   "execution_count": 8,
   "metadata": {},
   "outputs": [],
   "source": [
    "def numpy2image(img):\n",
    "    img = img.astype(np.uint8)\n",
    "    img = img.reshape((28,28))\n",
    "    return img"
   ]
  },
  {
   "cell_type": "code",
   "execution_count": 9,
   "metadata": {},
   "outputs": [],
   "source": [
    "def make_folders():\n",
    "    if not os.path.exists('emnist-dataset'):\n",
    "        os.mkdir('emnist-dataset')\n",
    "    for i in range(1, 27):\n",
    "        if not os.path.exists('emnist-dataset\\\\'+str(i)):\n",
    "            os.mkdir('emnist-dataset\\\\'+str(i))\n",
    "\n",
    "make_folders()      "
   ]
  },
  {
   "cell_type": "code",
   "execution_count": 10,
   "metadata": {},
   "outputs": [],
   "source": [
    "def store_images(images, labels):\n",
    "    num = 0\n",
    "    for image in images:\n",
    "        cv2.imwrite('emnist-dataset\\\\'+str(labels[num])+'\\\\'+str(num)+'.jpg', numpy2image(image))\n",
    "        num += 1\n",
    "        cv2.imshow('alpha', numpy2image(image))\n",
    "        cv2.waitKey(1)\n",
    "#store_images(train_images, train_labels)\n",
    "store_images(test_images, test_labels)\n",
    "cv2.destroyAllWindows()\n"
   ]
  },
  {
   "cell_type": "code",
   "execution_count": null,
   "metadata": {},
   "outputs": [],
   "source": []
  }
 ],
 "metadata": {
  "kernelspec": {
   "display_name": "Python 3",
   "language": "python",
   "name": "python3"
  },
  "language_info": {
   "codemirror_mode": {
    "name": "ipython",
    "version": 3
   },
   "file_extension": ".py",
   "mimetype": "text/x-python",
   "name": "python",
   "nbconvert_exporter": "python",
   "pygments_lexer": "ipython3",
   "version": "3.8.5"
  }
 },
 "nbformat": 4,
 "nbformat_minor": 4
}
